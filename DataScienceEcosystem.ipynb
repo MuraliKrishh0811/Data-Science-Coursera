{
 "cells": [
  {
   "cell_type": "markdown",
   "id": "48bd5396-ab2a-453f-9b21-749f3906eb55",
   "metadata": {},
   "source": [
    "# Data Science Tools and Ecosystem"
   ]
  },
  {
   "cell_type": "markdown",
   "id": "675a1d30-0ca8-4d1f-976a-f74fa11dd315",
   "metadata": {},
   "source": [
    "In this notebook, Data Science Tools and Ecosystem are summarized."
   ]
  },
  {
   "cell_type": "markdown",
   "id": "d06aaef0-cf42-4b04-bc3e-f9d8d7dde4b3",
   "metadata": {},
   "source": [
    "**Objectives:**\n",
    "* Listing popular languages\n",
    "* Listing popular libraries\n",
    "* Arithmetic expressions"
   ]
  },
  {
   "cell_type": "markdown",
   "id": "5f1e817f-2e08-4d16-a05f-502fb6cdc611",
   "metadata": {},
   "source": [
    "Some of the popular languages that Data Scientists use are:\n",
    "1. python\n",
    "2. R\n",
    "3. julia"
   ]
  },
  {
   "cell_type": "markdown",
   "id": "f79c017e-6ad6-4dca-a930-c7075b5fe42d",
   "metadata": {},
   "source": [
    "Some of the commonly used libraries used by Data Scientists include:\n",
    "1. Numpy\n",
    "2. Pandas\n",
    "3. Matplotlib"
   ]
  },
  {
   "cell_type": "markdown",
   "id": "e7d308ce-e821-4b3b-aaad-f7d728b47194",
   "metadata": {},
   "source": [
    "|Data Science Tools|\n",
    "|------------------|\n",
    "| Jupyter Notebook |\r\n",
    "| RStudio          |\r\n",
    "| Apache Zeppelin  |\n"
   ]
  },
  {
   "cell_type": "markdown",
   "id": "0cde5366-2283-4f21-9215-390b626ba6c2",
   "metadata": {},
   "source": [
    "### Below are a few examples of evaluating arithmetic expressions in Python"
   ]
  },
  {
   "cell_type": "code",
   "execution_count": 4,
   "id": "5f6921e8-e9df-47ee-8543-07e85070f070",
   "metadata": {},
   "outputs": [
    {
     "name": "stdout",
     "output_type": "stream",
     "text": [
      "5\n",
      "3.0\n",
      "10\n"
     ]
    }
   ],
   "source": [
    "print(2+3)\n",
    "print(6/2)\n",
    "print(2*5)"
   ]
  },
  {
   "cell_type": "code",
   "execution_count": 5,
   "id": "1fade8f9-fbaa-4380-8fc1-952707ee5dc3",
   "metadata": {},
   "outputs": [
    {
     "data": {
      "text/plain": [
       "17"
      ]
     },
     "execution_count": 5,
     "metadata": {},
     "output_type": "execute_result"
    }
   ],
   "source": [
    "#This a simple arithmetic expression to mutiply then add integers\n",
    "(3*4)+5"
   ]
  },
  {
   "cell_type": "code",
   "execution_count": 6,
   "id": "172505c3-b675-4a8f-aac4-71c1f953e600",
   "metadata": {},
   "outputs": [
    {
     "name": "stdout",
     "output_type": "stream",
     "text": [
      "3.3333333333333335\n"
     ]
    }
   ],
   "source": [
    "# This will convert 200 minutes to hours by diving by 60\n",
    "minutes = 200\n",
    "hours = minutes/60\n",
    "print(hours)"
   ]
  },
  {
   "cell_type": "markdown",
   "id": "8f91882f-cb1f-4c56-9548-a8d2510bd57a",
   "metadata": {},
   "source": [
    "## Author\n",
    "Murali"
   ]
  },
  {
   "cell_type": "code",
   "execution_count": null,
   "id": "0d4be6a9-ef90-4988-843b-326bbdb13a00",
   "metadata": {},
   "outputs": [],
   "source": []
  }
 ],
 "metadata": {
  "kernelspec": {
   "display_name": "Python 3 (ipykernel)",
   "language": "python",
   "name": "python3"
  },
  "language_info": {
   "codemirror_mode": {
    "name": "ipython",
    "version": 3
   },
   "file_extension": ".py",
   "mimetype": "text/x-python",
   "name": "python",
   "nbconvert_exporter": "python",
   "pygments_lexer": "ipython3",
   "version": "3.9.13"
  }
 },
 "nbformat": 4,
 "nbformat_minor": 5
}
